{
 "cells": [
  {
   "cell_type": "code",
   "execution_count": null,
   "id": "12605606",
   "metadata": {},
   "outputs": [],
   "source": [
    "class Solution:\n",
    "    def binarysearch(self, arr, k):\n",
    "        # Code \n",
    "        \n",
    "        low=0\n",
    "        high=len(arr)-1\n",
    "        while(low<=high):\n",
    "            mid=(low+high)//2\n",
    "            if arr[mid]==k:\n",
    "                return mid\n",
    "            if arr[mid]>k:\n",
    "                 high=mid-1\n",
    "            else:\n",
    "                low=mid+1\n",
    "         \n",
    "        return -1\n",
    "\n"
   ]
  },
  {
   "cell_type": "code",
   "execution_count": null,
   "id": "f2b1777a",
   "metadata": {},
   "outputs": [],
   "source": []
  },
  {
   "cell_type": "code",
   "execution_count": null,
   "id": "9d27f8ab",
   "metadata": {},
   "outputs": [],
   "source": []
  }
 ],
 "metadata": {
  "kernelspec": {
   "display_name": "Python 3 (ipykernel)",
   "language": "python",
   "name": "python3"
  },
  "language_info": {
   "codemirror_mode": {
    "name": "ipython",
    "version": 3
   },
   "file_extension": ".py",
   "mimetype": "text/x-python",
   "name": "python",
   "nbconvert_exporter": "python",
   "pygments_lexer": "ipython3",
   "version": "3.11.3"
  }
 },
 "nbformat": 4,
 "nbformat_minor": 5
}
