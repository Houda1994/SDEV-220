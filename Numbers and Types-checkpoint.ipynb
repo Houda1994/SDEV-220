{
 "cells": [
  {
   "cell_type": "code",
   "execution_count": 1,
   "id": "93b0c03c",
   "metadata": {},
   "outputs": [
    {
     "data": {
      "text/plain": [
       "3600"
      ]
     },
     "execution_count": 1,
     "metadata": {},
     "output_type": "execute_result"
    }
   ],
   "source": [
    ">>> 60 * 60\n",
    "3600\n"
   ]
  },
  {
   "cell_type": "code",
   "execution_count": 8,
   "id": "e88b6322",
   "metadata": {},
   "outputs": [],
   "source": [
    ">>> seconds_per_hour = 60 * 60\n"
   ]
  },
  {
   "cell_type": "code",
   "execution_count": 9,
   "id": "8fbc2527",
   "metadata": {},
   "outputs": [
    {
     "data": {
      "text/plain": [
       "86400"
      ]
     },
     "execution_count": 9,
     "metadata": {},
     "output_type": "execute_result"
    }
   ],
   "source": [
    ">>> seconds_per_hour * 24\n",
    "86400\n"
   ]
  },
  {
   "cell_type": "code",
   "execution_count": 10,
   "id": "8b84ac0d",
   "metadata": {},
   "outputs": [],
   "source": [
    ">>> seconds_per_day = seconds_per_hour * 24\n"
   ]
  },
  {
   "cell_type": "code",
   "execution_count": 5,
   "id": "b42e3868",
   "metadata": {},
   "outputs": [
    {
     "data": {
      "text/plain": [
       "24.0"
      ]
     },
     "execution_count": 5,
     "metadata": {},
     "output_type": "execute_result"
    }
   ],
   "source": [
    ">>> seconds_per_day / seconds_per_hour\n",
    "24.0\n"
   ]
  },
  {
   "cell_type": "code",
   "execution_count": 6,
   "id": "303dd521",
   "metadata": {},
   "outputs": [
    {
     "data": {
      "text/plain": [
       "24"
      ]
     },
     "execution_count": 6,
     "metadata": {},
     "output_type": "execute_result"
    }
   ],
   "source": [
    ">>> seconds_per_day // seconds_per_hour\n",
    "24\n"
   ]
  },
  {
   "cell_type": "code",
   "execution_count": null,
   "id": "599f1176",
   "metadata": {},
   "outputs": [],
   "source": []
  }
 ],
 "metadata": {
  "kernelspec": {
   "display_name": "Python 3 (ipykernel)",
   "language": "python",
   "name": "python3"
  },
  "language_info": {
   "codemirror_mode": {
    "name": "ipython",
    "version": 3
   },
   "file_extension": ".py",
   "mimetype": "text/x-python",
   "name": "python",
   "nbconvert_exporter": "python",
   "pygments_lexer": "ipython3",
   "version": "3.11.3"
  }
 },
 "nbformat": 4,
 "nbformat_minor": 5
}
