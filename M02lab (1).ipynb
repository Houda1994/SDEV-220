{
 "cells": [
  {
   "cell_type": "code",
   "execution_count": null,
   "id": "cfb2e3bc",
   "metadata": {},
   "outputs": [
    {
     "name": "stdout",
     "output_type": "stream",
     "text": [
      "Enter the student's last name (or 'ZZZ' to quit): Elkarachi\n",
      "Enter the student's first name: Houda\n",
      "Enter the student's GPA: 3.5\n",
      "Houda Elkarachi has made the Dean's List.\n",
      "Enter the student's last name (or 'ZZZ' to quit): john\n",
      "Enter the student's first name: leo\n",
      "Enter the student's GPA: 2.5\n",
      "leo john did not qualify for the Dean's List or the Honor Roll.\n"
     ]
    }
   ],
   "source": [
    "# Author: Houda\n",
    "# Filename: student_qualification.py\n",
    "# Description: This app accepts student names and GPAs, then determines if they qualify for the Dean's List or the Honor Roll.\n",
    "#              It will keep asking for student information until the last name 'ZZZ' is entered.\n",
    "\n",
    "# Main program loop\n",
    "while True:\n",
    "    # Ask for the student's last name\n",
    "    last_name = input(\"Enter the student's last name (or 'ZZZ' to quit): \")\n",
    "    \n",
    "    # Check if the user wants to quit\n",
    "    if last_name.upper() == 'ZZZ':\n",
    "        print(\"Exiting program...\")\n",
    "        break\n",
    "    \n",
    "    # Ask for the student's first name\n",
    "    first_name = input(\"Enter the student's first name: \")\n",
    "    \n",
    "    # Ask for the student's GPA and convert it to a float\n",
    "    try:\n",
    "        gpa = float(input(\"Enter the student's GPA: \"))\n",
    "    except ValueError:\n",
    "        print(\"Invalid input for GPA. Please enter a numeric value.\")\n",
    "        continue\n",
    "    \n",
    "    # Check for Dean's List qualification\n",
    "    if gpa >= 3.5:\n",
    "        print(f\"{first_name} {last_name} has made the Dean's List.\")\n",
    "    # Check for Honor Roll qualification\n",
    "    elif gpa >= 3.25:\n",
    "        print(f\"{first_name} {last_name} has made the Honor Roll.\")\n",
    "    else:\n",
    "        print(f\"{first_name} {last_name} did not qualify for the Dean's List or the Honor Roll.\")\n"
   ]
  },
  {
   "cell_type": "code",
   "execution_count": null,
   "id": "e20d4695",
   "metadata": {},
   "outputs": [],
   "source": []
  }
 ],
 "metadata": {
  "kernelspec": {
   "display_name": "Python 3 (ipykernel)",
   "language": "python",
   "name": "python3"
  },
  "language_info": {
   "codemirror_mode": {
    "name": "ipython",
    "version": 3
   },
   "file_extension": ".py",
   "mimetype": "text/x-python",
   "name": "python",
   "nbconvert_exporter": "python",
   "pygments_lexer": "ipython3",
   "version": "3.11.3"
  }
 },
 "nbformat": 4,
 "nbformat_minor": 5
}
